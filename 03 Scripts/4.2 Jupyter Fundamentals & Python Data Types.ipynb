{
 "cells": [
  {
   "cell_type": "markdown",
   "id": "0ccc5d9b",
   "metadata": {},
   "source": [
    "# 4.2 Jupyter Fundamentals & Python Data Types\n",
    "\n",
    "## Instacart Grocery Basket Analysis\n",
    "\n",
    "#### -Errol Hinkamp\n",
    "\n",
    "##### Table of Contents\n",
    "\n",
    "1. Import libraries\n",
    "2. Pandas data types practice"
   ]
  },
  {
   "cell_type": "markdown",
   "id": "cb49a93b",
   "metadata": {},
   "source": [
    "# 1. Import libraries"
   ]
  },
  {
   "cell_type": "code",
   "execution_count": 1,
   "id": "b416b6ba",
   "metadata": {},
   "outputs": [],
   "source": [
    "# Import libraries\n",
    "import pandas as pd\n",
    "import numpy as np\n",
    "import os"
   ]
  },
  {
   "cell_type": "markdown",
   "id": "55dbb49c",
   "metadata": {},
   "source": [
    "# 2. Pandas data types practice"
   ]
  },
  {
   "cell_type": "code",
   "execution_count": 2,
   "id": "411f71d1",
   "metadata": {},
   "outputs": [],
   "source": [
    "x=50\n",
    "y=30\n",
    "z=20"
   ]
  },
  {
   "cell_type": "code",
   "execution_count": 3,
   "id": "158a952d",
   "metadata": {},
   "outputs": [
    {
     "data": {
      "text/plain": [
       "100"
      ]
     },
     "execution_count": 3,
     "metadata": {},
     "output_type": "execute_result"
    }
   ],
   "source": [
    "x+y+z"
   ]
  },
  {
   "cell_type": "code",
   "execution_count": 4,
   "id": "a7728f3e",
   "metadata": {},
   "outputs": [],
   "source": [
    "a=1000\n",
    "b=901\n",
    "c=1"
   ]
  },
  {
   "cell_type": "code",
   "execution_count": 5,
   "id": "9bcbfc0b",
   "metadata": {},
   "outputs": [
    {
     "data": {
      "text/plain": [
       "100"
      ]
     },
     "execution_count": 5,
     "metadata": {},
     "output_type": "execute_result"
    }
   ],
   "source": [
    "a-b+c"
   ]
  },
  {
   "cell_type": "code",
   "execution_count": 6,
   "id": "82f30427",
   "metadata": {},
   "outputs": [],
   "source": [
    "d=75\n",
    "e=120\n",
    "f=145"
   ]
  },
  {
   "cell_type": "code",
   "execution_count": 7,
   "id": "42d9afad",
   "metadata": {},
   "outputs": [
    {
     "data": {
      "text/plain": [
       "100"
      ]
     },
     "execution_count": 7,
     "metadata": {},
     "output_type": "execute_result"
    }
   ],
   "source": [
    "d-e+f"
   ]
  },
  {
   "cell_type": "code",
   "execution_count": 8,
   "id": "9bd3cc1b",
   "metadata": {},
   "outputs": [],
   "source": [
    "g=4.20\n",
    "h=6.9"
   ]
  },
  {
   "cell_type": "code",
   "execution_count": 9,
   "id": "c863f77e",
   "metadata": {},
   "outputs": [
    {
     "data": {
      "text/plain": [
       "0.6086956521739131"
      ]
     },
     "execution_count": 9,
     "metadata": {},
     "output_type": "execute_result"
    }
   ],
   "source": [
    "g/h"
   ]
  },
  {
   "cell_type": "code",
   "execution_count": 10,
   "id": "55a73cc3",
   "metadata": {},
   "outputs": [],
   "source": [
    "i='Arc'\n",
    "j='adia'"
   ]
  },
  {
   "cell_type": "code",
   "execution_count": 11,
   "id": "186d9f85",
   "metadata": {},
   "outputs": [
    {
     "data": {
      "text/plain": [
       "'Arcadia'"
      ]
     },
     "execution_count": 11,
     "metadata": {},
     "output_type": "execute_result"
    }
   ],
   "source": [
    "i+j"
   ]
  },
  {
   "cell_type": "code",
   "execution_count": 12,
   "id": "bc706beb",
   "metadata": {},
   "outputs": [],
   "source": [
    "k='What rises must fall;'\n",
    "l=' what has fallen may rise again.'\n",
    "m='Blood for the Blood God,'\n",
    "n=' skulls for the Skull Throne!'"
   ]
  },
  {
   "cell_type": "code",
   "execution_count": 13,
   "id": "7f2e2b42",
   "metadata": {},
   "outputs": [
    {
     "data": {
      "text/plain": [
       "'What rises must fall; what has fallen may rise again.'"
      ]
     },
     "execution_count": 13,
     "metadata": {},
     "output_type": "execute_result"
    }
   ],
   "source": [
    "k+l"
   ]
  },
  {
   "cell_type": "code",
   "execution_count": 14,
   "id": "3eaf8083",
   "metadata": {},
   "outputs": [
    {
     "data": {
      "text/plain": [
       "'Blood for the Blood God, skulls for the Skull Throne!'"
      ]
     },
     "execution_count": 14,
     "metadata": {},
     "output_type": "execute_result"
    }
   ],
   "source": [
    "m+n"
   ]
  },
  {
   "cell_type": "code",
   "execution_count": 15,
   "id": "fa064598",
   "metadata": {},
   "outputs": [
    {
     "data": {
      "text/plain": [
       "'Blood for the Blood God, skulls for the Skull Throne!Blood for the Blood God, skulls for the Skull Throne!Blood for the Blood God, skulls for the Skull Throne!Blood for the Blood God, skulls for the Skull Throne!Blood for the Blood God, skulls for the Skull Throne!Blood for the Blood God, skulls for the Skull Throne!Blood for the Blood God, skulls for the Skull Throne!Blood for the Blood God, skulls for the Skull Throne!Blood for the Blood God, skulls for the Skull Throne!Blood for the Blood God, skulls for the Skull Throne!Blood for the Blood God, skulls for the Skull Throne!Blood for the Blood God, skulls for the Skull Throne!Blood for the Blood God, skulls for the Skull Throne!Blood for the Blood God, skulls for the Skull Throne!Blood for the Blood God, skulls for the Skull Throne!Blood for the Blood God, skulls for the Skull Throne!Blood for the Blood God, skulls for the Skull Throne!Blood for the Blood God, skulls for the Skull Throne!Blood for the Blood God, skulls for the Skull Throne!Blood for the Blood God, skulls for the Skull Throne!Blood for the Blood God, skulls for the Skull Throne!Blood for the Blood God, skulls for the Skull Throne!Blood for the Blood God, skulls for the Skull Throne!Blood for the Blood God, skulls for the Skull Throne!Blood for the Blood God, skulls for the Skull Throne!Blood for the Blood God, skulls for the Skull Throne!Blood for the Blood God, skulls for the Skull Throne!Blood for the Blood God, skulls for the Skull Throne!Blood for the Blood God, skulls for the Skull Throne!Blood for the Blood God, skulls for the Skull Throne!Blood for the Blood God, skulls for the Skull Throne!Blood for the Blood God, skulls for the Skull Throne!Blood for the Blood God, skulls for the Skull Throne!Blood for the Blood God, skulls for the Skull Throne!Blood for the Blood God, skulls for the Skull Throne!Blood for the Blood God, skulls for the Skull Throne!Blood for the Blood God, skulls for the Skull Throne!Blood for the Blood God, skulls for the Skull Throne!Blood for the Blood God, skulls for the Skull Throne!Blood for the Blood God, skulls for the Skull Throne!Blood for the Blood God, skulls for the Skull Throne!Blood for the Blood God, skulls for the Skull Throne!Blood for the Blood God, skulls for the Skull Throne!Blood for the Blood God, skulls for the Skull Throne!Blood for the Blood God, skulls for the Skull Throne!Blood for the Blood God, skulls for the Skull Throne!Blood for the Blood God, skulls for the Skull Throne!Blood for the Blood God, skulls for the Skull Throne!Blood for the Blood God, skulls for the Skull Throne!Blood for the Blood God, skulls for the Skull Throne!Blood for the Blood God, skulls for the Skull Throne!Blood for the Blood God, skulls for the Skull Throne!Blood for the Blood God, skulls for the Skull Throne!Blood for the Blood God, skulls for the Skull Throne!Blood for the Blood God, skulls for the Skull Throne!Blood for the Blood God, skulls for the Skull Throne!Blood for the Blood God, skulls for the Skull Throne!Blood for the Blood God, skulls for the Skull Throne!Blood for the Blood God, skulls for the Skull Throne!Blood for the Blood God, skulls for the Skull Throne!Blood for the Blood God, skulls for the Skull Throne!Blood for the Blood God, skulls for the Skull Throne!Blood for the Blood God, skulls for the Skull Throne!Blood for the Blood God, skulls for the Skull Throne!Blood for the Blood God, skulls for the Skull Throne!Blood for the Blood God, skulls for the Skull Throne!Blood for the Blood God, skulls for the Skull Throne!Blood for the Blood God, skulls for the Skull Throne!Blood for the Blood God, skulls for the Skull Throne!Blood for the Blood God, skulls for the Skull Throne!Blood for the Blood God, skulls for the Skull Throne!Blood for the Blood God, skulls for the Skull Throne!Blood for the Blood God, skulls for the Skull Throne!Blood for the Blood God, skulls for the Skull Throne!Blood for the Blood God, skulls for the Skull Throne!Blood for the Blood God, skulls for the Skull Throne!Blood for the Blood God, skulls for the Skull Throne!Blood for the Blood God, skulls for the Skull Throne!Blood for the Blood God, skulls for the Skull Throne!Blood for the Blood God, skulls for the Skull Throne!Blood for the Blood God, skulls for the Skull Throne!Blood for the Blood God, skulls for the Skull Throne!Blood for the Blood God, skulls for the Skull Throne!Blood for the Blood God, skulls for the Skull Throne!Blood for the Blood God, skulls for the Skull Throne!Blood for the Blood God, skulls for the Skull Throne!Blood for the Blood God, skulls for the Skull Throne!Blood for the Blood God, skulls for the Skull Throne!Blood for the Blood God, skulls for the Skull Throne!Blood for the Blood God, skulls for the Skull Throne!Blood for the Blood God, skulls for the Skull Throne!Blood for the Blood God, skulls for the Skull Throne!Blood for the Blood God, skulls for the Skull Throne!Blood for the Blood God, skulls for the Skull Throne!Blood for the Blood God, skulls for the Skull Throne!Blood for the Blood God, skulls for the Skull Throne!Blood for the Blood God, skulls for the Skull Throne!Blood for the Blood God, skulls for the Skull Throne!Blood for the Blood God, skulls for the Skull Throne!Blood for the Blood God, skulls for the Skull Throne!'"
      ]
     },
     "execution_count": 15,
     "metadata": {},
     "output_type": "execute_result"
    }
   ],
   "source": [
    "(m+n)*100"
   ]
  },
  {
   "cell_type": "code",
   "execution_count": null,
   "id": "d34023e3",
   "metadata": {},
   "outputs": [],
   "source": []
  }
 ],
 "metadata": {
  "kernelspec": {
   "display_name": "Python 3",
   "language": "python",
   "name": "python3"
  },
  "language_info": {
   "codemirror_mode": {
    "name": "ipython",
    "version": 3
   },
   "file_extension": ".py",
   "mimetype": "text/x-python",
   "name": "python",
   "nbconvert_exporter": "python",
   "pygments_lexer": "ipython3",
   "version": "3.8.8"
  }
 },
 "nbformat": 4,
 "nbformat_minor": 5
}
