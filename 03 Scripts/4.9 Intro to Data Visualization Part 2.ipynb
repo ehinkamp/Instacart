{
 "cells": [
  {
   "cell_type": "markdown",
   "id": "b08dab1d",
   "metadata": {},
   "source": [
    "# 4.9 Intro to Data Visualization Part 2\n",
    "\n",
    "## Instacart Grocery Basket Analysis\n",
    "\n",
    "#### -Errol Hinkamp\n",
    "\n",
    "##### Table of Contents\n",
    "\n",
    "1. Import libraries\n",
    "2. Import data\n",
    "3. Exercise walkthrough\n",
    "- 3.1 Create bar chart\n",
    "- 3.2 Create histogram\n",
    "- 3.3 Create scatterplot\n",
    "- 3.4 Create line chart\n",
    " - 3.4.1 Create random sample of data\n",
    " - 3.4.2 Chart random sample\n",
    "4. Create histogram of items ordered by hour of day\n",
    "5. Create bar chart of unique orders by loyalty category\n",
    "6. Create line chart of prices over course of day\n",
    "7. Create line chart of dependents vs age\n",
    "8. Create scatterplot of income vs age\n",
    "9. Export data"
   ]
  },
  {
   "cell_type": "markdown",
   "id": "02e58d33",
   "metadata": {},
   "source": [
    "# 1. Import libraries"
   ]
  },
  {
   "cell_type": "code",
   "execution_count": 1,
   "id": "0bfc2e89",
   "metadata": {},
   "outputs": [],
   "source": [
    "import pandas as pd\n",
    "import numpy as np\n",
    "import os\n",
    "import matplotlib.pyplot as plt\n",
    "import seaborn as sns\n",
    "import scipy"
   ]
  },
  {
   "cell_type": "markdown",
   "id": "fc8fb408",
   "metadata": {},
   "source": [
    "# 2. Import data"
   ]
  },
  {
   "cell_type": "code",
   "execution_count": 2,
   "id": "ea878730",
   "metadata": {},
   "outputs": [],
   "source": [
    "# Import dataframe\n",
    "path=r'C:\\Users\\Errol\\Documents\\Data Analyst Work\\Achievement 4\\Instacart Basket Analysis'\n",
    "bigmerged = pd.read_pickle(os.path.join(path, '02 Data', 'Prepared Data', 'bigmerged_4.9.1.pkl'))"
   ]
  },
  {
   "cell_type": "code",
   "execution_count": 3,
   "id": "81094def",
   "metadata": {},
   "outputs": [],
   "source": [
    "# Disable row limits\n",
    "pd.options.display.max_rows = None"
   ]
  },
  {
   "cell_type": "code",
   "execution_count": 4,
   "id": "d2f1f031",
   "metadata": {},
   "outputs": [],
   "source": [
    "# Disable column limits\n",
    "pd.options.display.max_columns = None"
   ]
  },
  {
   "cell_type": "code",
   "execution_count": 5,
   "id": "c43ee234",
   "metadata": {},
   "outputs": [
    {
     "data": {
      "text/html": [
       "<div>\n",
       "<style scoped>\n",
       "    .dataframe tbody tr th:only-of-type {\n",
       "        vertical-align: middle;\n",
       "    }\n",
       "\n",
       "    .dataframe tbody tr th {\n",
       "        vertical-align: top;\n",
       "    }\n",
       "\n",
       "    .dataframe thead th {\n",
       "        text-align: right;\n",
       "    }\n",
       "</style>\n",
       "<table border=\"1\" class=\"dataframe\">\n",
       "  <thead>\n",
       "    <tr style=\"text-align: right;\">\n",
       "      <th></th>\n",
       "      <th>order_id</th>\n",
       "      <th>user_id</th>\n",
       "      <th>order_number</th>\n",
       "      <th>orders_day_of_week</th>\n",
       "      <th>order_hour_of_day</th>\n",
       "      <th>days_since_last_order</th>\n",
       "      <th>product_id</th>\n",
       "      <th>add_to_cart_order</th>\n",
       "      <th>reordered</th>\n",
       "      <th>product_name</th>\n",
       "      <th>aisle_id</th>\n",
       "      <th>department_id</th>\n",
       "      <th>prices</th>\n",
       "      <th>price_range_loc</th>\n",
       "      <th>busiest_days</th>\n",
       "      <th>busiest_period_of_day</th>\n",
       "      <th>max_order</th>\n",
       "      <th>loyalty_flag</th>\n",
       "      <th>spending_flag</th>\n",
       "      <th>frequency_flag</th>\n",
       "      <th>First Name</th>\n",
       "      <th>Last Name</th>\n",
       "      <th>Gender</th>\n",
       "      <th>STATE</th>\n",
       "      <th>Age</th>\n",
       "      <th>date_joined</th>\n",
       "      <th>n_dependants</th>\n",
       "      <th>fam_status</th>\n",
       "      <th>income</th>\n",
       "    </tr>\n",
       "  </thead>\n",
       "  <tbody>\n",
       "    <tr>\n",
       "      <th>0</th>\n",
       "      <td>3144955</td>\n",
       "      <td>10331</td>\n",
       "      <td>4</td>\n",
       "      <td>5</td>\n",
       "      <td>11</td>\n",
       "      <td>30.0</td>\n",
       "      <td>196</td>\n",
       "      <td>3</td>\n",
       "      <td>0</td>\n",
       "      <td>Soda</td>\n",
       "      <td>77</td>\n",
       "      <td>7</td>\n",
       "      <td>9.0</td>\n",
       "      <td>Mid-range product</td>\n",
       "      <td>Regularly busy</td>\n",
       "      <td>Most orders</td>\n",
       "      <td>4</td>\n",
       "      <td>New customer</td>\n",
       "      <td>Low spender</td>\n",
       "      <td>Regular customer</td>\n",
       "      <td>Marilyn</td>\n",
       "      <td>Olsen</td>\n",
       "      <td>Female</td>\n",
       "      <td>North Dakota</td>\n",
       "      <td>24</td>\n",
       "      <td>1/6/2017</td>\n",
       "      <td>3</td>\n",
       "      <td>married</td>\n",
       "      <td>73639</td>\n",
       "    </tr>\n",
       "    <tr>\n",
       "      <th>1</th>\n",
       "      <td>2300470</td>\n",
       "      <td>10331</td>\n",
       "      <td>1</td>\n",
       "      <td>2</td>\n",
       "      <td>14</td>\n",
       "      <td>NaN</td>\n",
       "      <td>21386</td>\n",
       "      <td>2</td>\n",
       "      <td>0</td>\n",
       "      <td>Smartwater</td>\n",
       "      <td>115</td>\n",
       "      <td>7</td>\n",
       "      <td>11.0</td>\n",
       "      <td>Mid-range product</td>\n",
       "      <td>Regularly busy</td>\n",
       "      <td>Most orders</td>\n",
       "      <td>4</td>\n",
       "      <td>New customer</td>\n",
       "      <td>Low spender</td>\n",
       "      <td>Regular customer</td>\n",
       "      <td>Marilyn</td>\n",
       "      <td>Olsen</td>\n",
       "      <td>Female</td>\n",
       "      <td>North Dakota</td>\n",
       "      <td>24</td>\n",
       "      <td>1/6/2017</td>\n",
       "      <td>3</td>\n",
       "      <td>married</td>\n",
       "      <td>73639</td>\n",
       "    </tr>\n",
       "    <tr>\n",
       "      <th>2</th>\n",
       "      <td>1922742</td>\n",
       "      <td>10331</td>\n",
       "      <td>2</td>\n",
       "      <td>5</td>\n",
       "      <td>11</td>\n",
       "      <td>10.0</td>\n",
       "      <td>21386</td>\n",
       "      <td>2</td>\n",
       "      <td>1</td>\n",
       "      <td>Smartwater</td>\n",
       "      <td>115</td>\n",
       "      <td>7</td>\n",
       "      <td>11.0</td>\n",
       "      <td>Mid-range product</td>\n",
       "      <td>Regularly busy</td>\n",
       "      <td>Most orders</td>\n",
       "      <td>4</td>\n",
       "      <td>New customer</td>\n",
       "      <td>Low spender</td>\n",
       "      <td>Regular customer</td>\n",
       "      <td>Marilyn</td>\n",
       "      <td>Olsen</td>\n",
       "      <td>Female</td>\n",
       "      <td>North Dakota</td>\n",
       "      <td>24</td>\n",
       "      <td>1/6/2017</td>\n",
       "      <td>3</td>\n",
       "      <td>married</td>\n",
       "      <td>73639</td>\n",
       "    </tr>\n",
       "    <tr>\n",
       "      <th>3</th>\n",
       "      <td>2300470</td>\n",
       "      <td>10331</td>\n",
       "      <td>1</td>\n",
       "      <td>2</td>\n",
       "      <td>14</td>\n",
       "      <td>NaN</td>\n",
       "      <td>42500</td>\n",
       "      <td>1</td>\n",
       "      <td>0</td>\n",
       "      <td>Orange &amp; Lemon Flavor Variety Pack Sparkling F...</td>\n",
       "      <td>77</td>\n",
       "      <td>7</td>\n",
       "      <td>6.6</td>\n",
       "      <td>Mid-range product</td>\n",
       "      <td>Regularly busy</td>\n",
       "      <td>Most orders</td>\n",
       "      <td>4</td>\n",
       "      <td>New customer</td>\n",
       "      <td>Low spender</td>\n",
       "      <td>Regular customer</td>\n",
       "      <td>Marilyn</td>\n",
       "      <td>Olsen</td>\n",
       "      <td>Female</td>\n",
       "      <td>North Dakota</td>\n",
       "      <td>24</td>\n",
       "      <td>1/6/2017</td>\n",
       "      <td>3</td>\n",
       "      <td>married</td>\n",
       "      <td>73639</td>\n",
       "    </tr>\n",
       "    <tr>\n",
       "      <th>4</th>\n",
       "      <td>1922742</td>\n",
       "      <td>10331</td>\n",
       "      <td>2</td>\n",
       "      <td>5</td>\n",
       "      <td>11</td>\n",
       "      <td>10.0</td>\n",
       "      <td>42500</td>\n",
       "      <td>3</td>\n",
       "      <td>1</td>\n",
       "      <td>Orange &amp; Lemon Flavor Variety Pack Sparkling F...</td>\n",
       "      <td>77</td>\n",
       "      <td>7</td>\n",
       "      <td>6.6</td>\n",
       "      <td>Mid-range product</td>\n",
       "      <td>Regularly busy</td>\n",
       "      <td>Most orders</td>\n",
       "      <td>4</td>\n",
       "      <td>New customer</td>\n",
       "      <td>Low spender</td>\n",
       "      <td>Regular customer</td>\n",
       "      <td>Marilyn</td>\n",
       "      <td>Olsen</td>\n",
       "      <td>Female</td>\n",
       "      <td>North Dakota</td>\n",
       "      <td>24</td>\n",
       "      <td>1/6/2017</td>\n",
       "      <td>3</td>\n",
       "      <td>married</td>\n",
       "      <td>73639</td>\n",
       "    </tr>\n",
       "  </tbody>\n",
       "</table>\n",
       "</div>"
      ],
      "text/plain": [
       "   order_id  user_id  order_number  orders_day_of_week  order_hour_of_day  \\\n",
       "0   3144955    10331             4                   5                 11   \n",
       "1   2300470    10331             1                   2                 14   \n",
       "2   1922742    10331             2                   5                 11   \n",
       "3   2300470    10331             1                   2                 14   \n",
       "4   1922742    10331             2                   5                 11   \n",
       "\n",
       "   days_since_last_order  product_id  add_to_cart_order  reordered  \\\n",
       "0                   30.0         196                  3          0   \n",
       "1                    NaN       21386                  2          0   \n",
       "2                   10.0       21386                  2          1   \n",
       "3                    NaN       42500                  1          0   \n",
       "4                   10.0       42500                  3          1   \n",
       "\n",
       "                                        product_name  aisle_id  department_id  \\\n",
       "0                                               Soda        77              7   \n",
       "1                                         Smartwater       115              7   \n",
       "2                                         Smartwater       115              7   \n",
       "3  Orange & Lemon Flavor Variety Pack Sparkling F...        77              7   \n",
       "4  Orange & Lemon Flavor Variety Pack Sparkling F...        77              7   \n",
       "\n",
       "   prices    price_range_loc    busiest_days busiest_period_of_day  max_order  \\\n",
       "0     9.0  Mid-range product  Regularly busy           Most orders          4   \n",
       "1    11.0  Mid-range product  Regularly busy           Most orders          4   \n",
       "2    11.0  Mid-range product  Regularly busy           Most orders          4   \n",
       "3     6.6  Mid-range product  Regularly busy           Most orders          4   \n",
       "4     6.6  Mid-range product  Regularly busy           Most orders          4   \n",
       "\n",
       "   loyalty_flag spending_flag    frequency_flag First Name Last Name  Gender  \\\n",
       "0  New customer   Low spender  Regular customer    Marilyn     Olsen  Female   \n",
       "1  New customer   Low spender  Regular customer    Marilyn     Olsen  Female   \n",
       "2  New customer   Low spender  Regular customer    Marilyn     Olsen  Female   \n",
       "3  New customer   Low spender  Regular customer    Marilyn     Olsen  Female   \n",
       "4  New customer   Low spender  Regular customer    Marilyn     Olsen  Female   \n",
       "\n",
       "          STATE  Age date_joined  n_dependants fam_status  income  \n",
       "0  North Dakota   24    1/6/2017             3    married   73639  \n",
       "1  North Dakota   24    1/6/2017             3    married   73639  \n",
       "2  North Dakota   24    1/6/2017             3    married   73639  \n",
       "3  North Dakota   24    1/6/2017             3    married   73639  \n",
       "4  North Dakota   24    1/6/2017             3    married   73639  "
      ]
     },
     "execution_count": 5,
     "metadata": {},
     "output_type": "execute_result"
    }
   ],
   "source": [
    "# Quick visual check of dataframe\n",
    "bigmerged.head()"
   ]
  },
  {
   "cell_type": "code",
   "execution_count": 6,
   "id": "132a26b7",
   "metadata": {},
   "outputs": [
    {
     "data": {
      "text/plain": [
       "(32399732, 29)"
      ]
     },
     "execution_count": 6,
     "metadata": {},
     "output_type": "execute_result"
    }
   ],
   "source": [
    "# Check shape\n",
    "bigmerged.shape"
   ]
  },
  {
   "cell_type": "markdown",
   "id": "065930cc",
   "metadata": {},
   "source": [
    "# 3. Exercise walkthrough"
   ]
  },
  {
   "cell_type": "markdown",
   "id": "bd28b5c7",
   "metadata": {},
   "source": [
    "### 3.1 Create bar chart"
   ]
  },
  {
   "cell_type": "code",
   "execution_count": 7,
   "id": "2e17ff6a",
   "metadata": {},
   "outputs": [
    {
     "data": {
      "image/png": "[encoded data removed]",
      "text/plain": [
       "<Figure size 432x288 with 1 Axes>"
      ]
     },
     "metadata": {
      "needs_background": "light"
     },
     "output_type": "display_data"
    }
   ],
   "source": [
    "# Create bar chart of orders by day of week, sorted by day of week\n",
    "bar = bigmerged['orders_day_of_week'].value_counts().sort_index().plot.bar(xlabel='Day of the Week', ylabel='Orders', title='Orders by Day of the Week', rot=0)"
   ]
  },
  {
   "cell_type": "code",
   "execution_count": 8,
   "id": "179e5d75",
   "metadata": {},
   "outputs": [],
   "source": [
    "# Export bar chart\n",
    "bar.figure.savefig(os.path.join(path, '04 Analysis','Visualizations', 'bar_orders_dow.png'))"
   ]
  },
  {
   "cell_type": "markdown",
   "id": "e6c87534",
   "metadata": {},
   "source": [
    "### 3.2 Create histogram"
   ]
  },
  {
   "cell_type": "code",
   "execution_count": 9,
   "id": "f085c617",
   "metadata": {},
   "outputs": [
    {
     "data": {
      "image/png": "[encoded data removed]",
      "text/plain": [
       "<Figure size 432x288 with 1 Axes>"
      ]
     },
     "metadata": {
      "needs_background": "light"
     },
     "output_type": "display_data"
    }
   ],
   "source": [
    "# Create histogram of prices\n",
    "hist = bigmerged['prices'].plot.hist(bins=50, title='Histogram of Prices')"
   ]
  },
  {
   "cell_type": "code",
   "execution_count": 10,
   "id": "268e6f9e",
   "metadata": {},
   "outputs": [],
   "source": [
    "# Export histogram\n",
    "hist.figure.savefig(os.path.join(path, '04 Analysis','Visualizations', 'hist_prices.png'))"
   ]
  },
  {
   "cell_type": "markdown",
   "id": "bd641a0b",
   "metadata": {},
   "source": [
    "### 3.3 Create scatterplot"
   ]
  },
  {
   "cell_type": "code",
   "execution_count": 11,
   "id": "958eaf89",
   "metadata": {},
   "outputs": [
    {
     "data": {
      "image/png": "[encoded data removed]",
      "text/plain": [
       "<Figure size 432x288 with 1 Axes>"
      ]
     },
     "metadata": {
      "needs_background": "light"
     },
     "output_type": "display_data"
    }
   ],
   "source": [
    "# Create scatterplot of prices\n",
    "scat=sns.scatterplot(x = 'prices', y = 'prices',data = bigmerged)"
   ]
  },
  {
   "cell_type": "code",
   "execution_count": 12,
   "id": "d65e7e4f",
   "metadata": {},
   "outputs": [],
   "source": [
    "# Export scatterplot\n",
    "scat.figure.savefig(os.path.join(path, '04 Analysis','Visualizations','scat_prices.png'))"
   ]
  },
  {
   "cell_type": "markdown",
   "id": "ce44b62c",
   "metadata": {},
   "source": [
    "### 3.4 Create line chart"
   ]
  },
  {
   "cell_type": "markdown",
   "id": "0fb30596",
   "metadata": {},
   "source": [
    "#### 3.4.1 Create random sample of data"
   ]
  },
  {
   "cell_type": "code",
   "execution_count": 13,
   "id": "99ef8176",
   "metadata": {},
   "outputs": [],
   "source": [
    "# Create 70/30 split of random numbers\n",
    "np.random.seed(4)\n",
    "dev = np.random.rand(len(bigmerged)) <= 0.7"
   ]
  },
  {
   "cell_type": "code",
   "execution_count": 14,
   "id": "cf9b80f3",
   "metadata": {},
   "outputs": [],
   "source": [
    "# Split numbers into two datasets\n",
    "big = bigmerged[dev]\n",
    "small = bigmerged[~dev]"
   ]
  },
  {
   "cell_type": "code",
   "execution_count": 15,
   "id": "422a352f",
   "metadata": {},
   "outputs": [
    {
     "data": {
      "text/plain": [
       "32399732"
      ]
     },
     "execution_count": 15,
     "metadata": {},
     "output_type": "execute_result"
    }
   ],
   "source": [
    "# Confirm dataset sizes\n",
    "len(bigmerged)"
   ]
  },
  {
   "cell_type": "code",
   "execution_count": 16,
   "id": "a994e78e",
   "metadata": {},
   "outputs": [
    {
     "data": {
      "text/plain": [
       "32399732"
      ]
     },
     "execution_count": 16,
     "metadata": {},
     "output_type": "execute_result"
    }
   ],
   "source": [
    "len(big)+len(small)"
   ]
  },
  {
   "cell_type": "code",
   "execution_count": 17,
   "id": "14af7988",
   "metadata": {},
   "outputs": [],
   "source": [
    "# Trim unnecessary columns from smaller dataset\n",
    "smaller = small[['orders_day_of_week','prices']]"
   ]
  },
  {
   "cell_type": "code",
   "execution_count": 18,
   "id": "a5feebab",
   "metadata": {},
   "outputs": [
    {
     "data": {
      "text/html": [
       "<div>\n",
       "<style scoped>\n",
       "    .dataframe tbody tr th:only-of-type {\n",
       "        vertical-align: middle;\n",
       "    }\n",
       "\n",
       "    .dataframe tbody tr th {\n",
       "        vertical-align: top;\n",
       "    }\n",
       "\n",
       "    .dataframe thead th {\n",
       "        text-align: right;\n",
       "    }\n",
       "</style>\n",
       "<table border=\"1\" class=\"dataframe\">\n",
       "  <thead>\n",
       "    <tr style=\"text-align: right;\">\n",
       "      <th></th>\n",
       "      <th>orders_day_of_week</th>\n",
       "      <th>prices</th>\n",
       "    </tr>\n",
       "  </thead>\n",
       "  <tbody>\n",
       "    <tr>\n",
       "      <th>0</th>\n",
       "      <td>5</td>\n",
       "      <td>9.0</td>\n",
       "    </tr>\n",
       "    <tr>\n",
       "      <th>2</th>\n",
       "      <td>5</td>\n",
       "      <td>11.0</td>\n",
       "    </tr>\n",
       "    <tr>\n",
       "      <th>3</th>\n",
       "      <td>2</td>\n",
       "      <td>6.6</td>\n",
       "    </tr>\n",
       "    <tr>\n",
       "      <th>6</th>\n",
       "      <td>5</td>\n",
       "      <td>13.3</td>\n",
       "    </tr>\n",
       "    <tr>\n",
       "      <th>10</th>\n",
       "      <td>4</td>\n",
       "      <td>9.0</td>\n",
       "    </tr>\n",
       "  </tbody>\n",
       "</table>\n",
       "</div>"
      ],
      "text/plain": [
       "    orders_day_of_week  prices\n",
       "0                    5     9.0\n",
       "2                    5    11.0\n",
       "3                    2     6.6\n",
       "6                    5    13.3\n",
       "10                   4     9.0"
      ]
     },
     "execution_count": 18,
     "metadata": {},
     "output_type": "execute_result"
    }
   ],
   "source": [
    "# Quick visual check of new dataset\n",
    "smaller.head()"
   ]
  },
  {
   "cell_type": "markdown",
   "id": "4a143187",
   "metadata": {},
   "source": [
    "#### 3.4.2 Chart random sample"
   ]
  },
  {
   "cell_type": "code",
   "execution_count": 19,
   "id": "0d006556",
   "metadata": {},
   "outputs": [
    {
     "data": {
      "image/png": "[encoded data removed]",
      "text/plain": [
       "<Figure size 432x288 with 1 Axes>"
      ]
     },
     "metadata": {
      "needs_background": "light"
     },
     "output_type": "display_data"
    }
   ],
   "source": [
    "# Create & save line chart of prices vs day of the week from random sample of data\n",
    "line = sns.lineplot(data = smaller, x = 'orders_day_of_week',y = 'prices')"
   ]
  },
  {
   "cell_type": "markdown",
   "id": "26836581",
   "metadata": {},
   "source": [
    "##### I created a line chart with two different seed numbers (476 & 4) and neither of them resembled the chart in the exercise (though they matched each other, which is a good sign)."
   ]
  },
  {
   "cell_type": "code",
   "execution_count": 20,
   "id": "7abf304a",
   "metadata": {},
   "outputs": [],
   "source": [
    "# Export line chart\n",
    "line.figure.savefig(os.path.join(path, '04 Analysis','Visualizations','line_prices_dow.png'))"
   ]
  },
  {
   "cell_type": "markdown",
   "id": "ec9ba658",
   "metadata": {},
   "source": [
    "# 4. Create histogram of items order by hour of day"
   ]
  },
  {
   "cell_type": "code",
   "execution_count": 21,
   "id": "e7fb850c",
   "metadata": {},
   "outputs": [
    {
     "data": {
      "image/png": "[encoded data removed]",
      "text/plain": [
       "<Figure size 432x288 with 1 Axes>"
      ]
     },
     "metadata": {
      "needs_background": "light"
     },
     "output_type": "display_data"
    }
   ],
   "source": [
    "# Create & save histogram of \"hour of day\"\n",
    "hist2=bigmerged['order_hour_of_day'].plot.hist(bins = 24, title='Histogram of Items Ordered by Hour of Day', xticks=[0,1,2,3,4,5,6,7,8,9,10,11,12,13,14,15,16,17,18,19,20,21,22,23])"
   ]
  },
  {
   "cell_type": "markdown",
   "id": "9e670c5f",
   "metadata": {},
   "source": [
    "##### The bulk of items are ordered between 10:00 AM and 3:00 PM"
   ]
  },
  {
   "cell_type": "code",
   "execution_count": 22,
   "id": "a15449ce",
   "metadata": {},
   "outputs": [],
   "source": [
    "# Export histogram\n",
    "hist2.figure.savefig(os.path.join(path, '04 Analysis','Visualizations','hist_hour_of_day.png'))"
   ]
  },
  {
   "cell_type": "markdown",
   "id": "23b3aeb9",
   "metadata": {},
   "source": [
    "# 5. Create bar chart of unique orders by loyalty category"
   ]
  },
  {
   "cell_type": "code",
   "execution_count": 23,
   "id": "9d360ce8",
   "metadata": {},
   "outputs": [
    {
     "data": {
      "text/plain": [
       "loyalty_flag\n",
       "Loyal customer      1024512\n",
       "New customer         637044\n",
       "Regular customer    1553112\n",
       "Name: order_id, dtype: int64"
      ]
     },
     "execution_count": 23,
     "metadata": {},
     "output_type": "execute_result"
    }
   ],
   "source": [
    "# Determine number of unique orders per loyalty category\n",
    "bigmerged.groupby('loyalty_flag')['order_id'].nunique(dropna=False)"
   ]
  },
  {
   "cell_type": "code",
   "execution_count": 24,
   "id": "0d5462ce",
   "metadata": {},
   "outputs": [],
   "source": [
    "# Make new dataset\n",
    "loyalty_bar=bigmerged.groupby('loyalty_flag')['order_id'].nunique(dropna=False)"
   ]
  },
  {
   "cell_type": "code",
   "execution_count": 25,
   "id": "805e94f2",
   "metadata": {},
   "outputs": [
    {
     "data": {
      "text/plain": [
       "loyalty_flag\n",
       "Loyal customer      1024512\n",
       "New customer         637044\n",
       "Regular customer    1553112\n",
       "Name: order_id, dtype: int64"
      ]
     },
     "execution_count": 25,
     "metadata": {},
     "output_type": "execute_result"
    }
   ],
   "source": [
    "# Quick visual check of new dataset\n",
    "loyalty_bar.head()"
   ]
  },
  {
   "cell_type": "code",
   "execution_count": 26,
   "id": "626a9b45",
   "metadata": {},
   "outputs": [
    {
     "data": {
      "image/png": "[encoded data removed]",
      "text/plain": [
       "<Figure size 432x288 with 1 Axes>"
      ]
     },
     "metadata": {
      "needs_background": "light"
     },
     "output_type": "display_data"
    }
   ],
   "source": [
    "# Create & save bar chart of unique orders by loyalty category\n",
    "bar2=loyalty_bar.plot.bar(xlabel='Customer Type', ylabel='Unique Orders', title='Unique Orders by Loyalty Category', rot=0)"
   ]
  },
  {
   "cell_type": "code",
   "execution_count": 27,
   "id": "28247b39",
   "metadata": {},
   "outputs": [],
   "source": [
    "# Export bar chart\n",
    "bar2.figure.savefig(os.path.join(path, '04 Analysis','Visualizations','bar_orders_loyalty.png'))"
   ]
  },
  {
   "cell_type": "markdown",
   "id": "fa9adc38",
   "metadata": {},
   "source": [
    "# 6. Create line chart of prices over course of day"
   ]
  },
  {
   "cell_type": "code",
   "execution_count": 28,
   "id": "54704ff0",
   "metadata": {},
   "outputs": [],
   "source": [
    "# Trim unnecessary columns from smaller dataset\n",
    "smaller1 = small[['order_hour_of_day','prices']]"
   ]
  },
  {
   "cell_type": "code",
   "execution_count": 29,
   "id": "f8c5757e",
   "metadata": {},
   "outputs": [
    {
     "data": {
      "text/html": [
       "<div>\n",
       "<style scoped>\n",
       "    .dataframe tbody tr th:only-of-type {\n",
       "        vertical-align: middle;\n",
       "    }\n",
       "\n",
       "    .dataframe tbody tr th {\n",
       "        vertical-align: top;\n",
       "    }\n",
       "\n",
       "    .dataframe thead th {\n",
       "        text-align: right;\n",
       "    }\n",
       "</style>\n",
       "<table border=\"1\" class=\"dataframe\">\n",
       "  <thead>\n",
       "    <tr style=\"text-align: right;\">\n",
       "      <th></th>\n",
       "      <th>order_hour_of_day</th>\n",
       "      <th>prices</th>\n",
       "    </tr>\n",
       "  </thead>\n",
       "  <tbody>\n",
       "    <tr>\n",
       "      <th>0</th>\n",
       "      <td>11</td>\n",
       "      <td>9.0</td>\n",
       "    </tr>\n",
       "    <tr>\n",
       "      <th>2</th>\n",
       "      <td>11</td>\n",
       "      <td>11.0</td>\n",
       "    </tr>\n",
       "    <tr>\n",
       "      <th>3</th>\n",
       "      <td>14</td>\n",
       "      <td>6.6</td>\n",
       "    </tr>\n",
       "    <tr>\n",
       "      <th>6</th>\n",
       "      <td>11</td>\n",
       "      <td>13.3</td>\n",
       "    </tr>\n",
       "    <tr>\n",
       "      <th>10</th>\n",
       "      <td>11</td>\n",
       "      <td>9.0</td>\n",
       "    </tr>\n",
       "  </tbody>\n",
       "</table>\n",
       "</div>"
      ],
      "text/plain": [
       "    order_hour_of_day  prices\n",
       "0                  11     9.0\n",
       "2                  11    11.0\n",
       "3                  14     6.6\n",
       "6                  11    13.3\n",
       "10                 11     9.0"
      ]
     },
     "execution_count": 29,
     "metadata": {},
     "output_type": "execute_result"
    }
   ],
   "source": [
    "# Quick visual check of new dataset\n",
    "smaller1.head()"
   ]
  },
  {
   "cell_type": "code",
   "execution_count": 30,
   "id": "1b152b61",
   "metadata": {},
   "outputs": [
    {
     "data": {
      "image/png": "[encoded data removed]",
      "text/plain": [
       "<Figure size 432x288 with 1 Axes>"
      ]
     },
     "metadata": {
      "needs_background": "light"
     },
     "output_type": "display_data"
    }
   ],
   "source": [
    "# Create & save line chart of prices vs hour of the day from random sample of data\n",
    "line1 = sns.lineplot(data = smaller1, x = 'order_hour_of_day',y = 'prices')"
   ]
  },
  {
   "cell_type": "code",
   "execution_count": 31,
   "id": "d6cfabf5",
   "metadata": {},
   "outputs": [],
   "source": [
    "# Export line chart\n",
    "line1.figure.savefig(os.path.join(path, '04 Analysis','Visualizations','line_prices_hod.png'))"
   ]
  },
  {
   "cell_type": "markdown",
   "id": "32726c69",
   "metadata": {},
   "source": [
    "# 7. Create line chart of dependents vs age"
   ]
  },
  {
   "cell_type": "code",
   "execution_count": 32,
   "id": "f1922217",
   "metadata": {},
   "outputs": [],
   "source": [
    "# Trim unnecessary columns from smaller dataset\n",
    "smaller2 = small[['Age','n_dependants']]"
   ]
  },
  {
   "cell_type": "code",
   "execution_count": 33,
   "id": "ee84c620",
   "metadata": {},
   "outputs": [
    {
     "data": {
      "text/html": [
       "<div>\n",
       "<style scoped>\n",
       "    .dataframe tbody tr th:only-of-type {\n",
       "        vertical-align: middle;\n",
       "    }\n",
       "\n",
       "    .dataframe tbody tr th {\n",
       "        vertical-align: top;\n",
       "    }\n",
       "\n",
       "    .dataframe thead th {\n",
       "        text-align: right;\n",
       "    }\n",
       "</style>\n",
       "<table border=\"1\" class=\"dataframe\">\n",
       "  <thead>\n",
       "    <tr style=\"text-align: right;\">\n",
       "      <th></th>\n",
       "      <th>Age</th>\n",
       "      <th>n_dependants</th>\n",
       "    </tr>\n",
       "  </thead>\n",
       "  <tbody>\n",
       "    <tr>\n",
       "      <th>0</th>\n",
       "      <td>24</td>\n",
       "      <td>3</td>\n",
       "    </tr>\n",
       "    <tr>\n",
       "      <th>2</th>\n",
       "      <td>24</td>\n",
       "      <td>3</td>\n",
       "    </tr>\n",
       "    <tr>\n",
       "      <th>3</th>\n",
       "      <td>24</td>\n",
       "      <td>3</td>\n",
       "    </tr>\n",
       "    <tr>\n",
       "      <th>6</th>\n",
       "      <td>24</td>\n",
       "      <td>3</td>\n",
       "    </tr>\n",
       "    <tr>\n",
       "      <th>10</th>\n",
       "      <td>42</td>\n",
       "      <td>2</td>\n",
       "    </tr>\n",
       "  </tbody>\n",
       "</table>\n",
       "</div>"
      ],
      "text/plain": [
       "    Age  n_dependants\n",
       "0    24             3\n",
       "2    24             3\n",
       "3    24             3\n",
       "6    24             3\n",
       "10   42             2"
      ]
     },
     "execution_count": 33,
     "metadata": {},
     "output_type": "execute_result"
    }
   ],
   "source": [
    "# Quick visual check of new dataset\n",
    "smaller2.head()"
   ]
  },
  {
   "cell_type": "code",
   "execution_count": 34,
   "id": "ba30d9e5",
   "metadata": {},
   "outputs": [
    {
     "data": {
      "image/png": "[encoded data removed]",
      "text/plain": [
       "<Figure size 432x288 with 1 Axes>"
      ]
     },
     "metadata": {
      "needs_background": "light"
     },
     "output_type": "display_data"
    }
   ],
   "source": [
    "# Create & save line chart of prices vs hour of the day from random sample of data\n",
    "line2 = sns.lineplot(data = smaller2, x = 'Age',y = 'n_dependants')"
   ]
  },
  {
   "cell_type": "markdown",
   "id": "e3eb9e97",
   "metadata": {},
   "source": [
    "##### Seemingly no link between age and number of dependents"
   ]
  },
  {
   "cell_type": "code",
   "execution_count": 35,
   "id": "5e012074",
   "metadata": {},
   "outputs": [],
   "source": [
    "# Export line chart\n",
    "line2.figure.savefig(os.path.join(path, '04 Analysis','Visualizations','line_age_dependents.png'))"
   ]
  },
  {
   "cell_type": "markdown",
   "id": "a6112979",
   "metadata": {},
   "source": [
    "# 8. Create scatterplot of income vs age"
   ]
  },
  {
   "cell_type": "code",
   "execution_count": 36,
   "id": "6ec3e5e2",
   "metadata": {},
   "outputs": [
    {
     "data": {
      "image/png": "[encoded data removed]",
      "text/plain": [
       "<Figure size 432x288 with 1 Axes>"
      ]
     },
     "metadata": {
      "needs_background": "light"
     },
     "output_type": "display_data"
    }
   ],
   "source": [
    "# Create & save scatterplot of age and spending power\n",
    "scat1=sns.scatterplot(x = 'Age', y = 'income',data = bigmerged)"
   ]
  },
  {
   "cell_type": "markdown",
   "id": "be02442d",
   "metadata": {},
   "source": [
    "##### Scatterplot is too busy to get much useful data, though there do appear to be more higher-income people above the age of 40"
   ]
  },
  {
   "cell_type": "code",
   "execution_count": 37,
   "id": "e27a2aa9",
   "metadata": {},
   "outputs": [],
   "source": [
    "# Export line chart\n",
    "scat1.figure.savefig(os.path.join(path, '04 Analysis','Visualizations','scat_age_income.png'))"
   ]
  },
  {
   "cell_type": "markdown",
   "id": "56167f50",
   "metadata": {},
   "source": [
    "# 9. Export data"
   ]
  },
  {
   "cell_type": "code",
   "execution_count": 38,
   "id": "04d48b37",
   "metadata": {},
   "outputs": [],
   "source": [
    "# Export dataframe\n",
    "bigmerged.to_pickle(os.path.join(path, '02 Data','Prepared Data', 'bigmerged_4.9.2.pkl'))"
   ]
  },
  {
   "cell_type": "code",
   "execution_count": null,
   "id": "6e564890",
   "metadata": {},
   "outputs": [],
   "source": []
  }
 ],
 "metadata": {
  "kernelspec": {
   "display_name": "Python 3",
   "language": "python",
   "name": "python3"
  },
  "language_info": {
   "codemirror_mode": {
    "name": "ipython",
    "version": 3
   },
   "file_extension": ".py",
   "mimetype": "text/x-python",
   "name": "python",
   "nbconvert_exporter": "python",
   "pygments_lexer": "ipython3",
   "version": "3.8.8"
  }
 },
 "nbformat": 4,
 "nbformat_minor": 5
}
