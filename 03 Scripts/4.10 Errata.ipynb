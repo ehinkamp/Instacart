{
 "cells": [
  {
   "cell_type": "markdown",
   "id": "23133a65",
   "metadata": {},
   "source": [
    "# 4.10 Errata\n",
    "\n",
    "## Instacart Grocery Basket Analysis\n",
    "\n",
    "#### -Errol Hinkamp\n",
    "\n",
    "##### Table of Contents\n",
    "\n",
    "1. Import libraries and data\n",
    "2. Product price range visualizations\n",
    "3. Department sales visualization\n",
    "4. Loyalty status visualizations"
   ]
  },
  {
   "cell_type": "markdown",
   "id": "6fb928a3",
   "metadata": {},
   "source": [
    "# 1. Import libraries and data"
   ]
  },
  {
   "cell_type": "code",
   "execution_count": 1,
   "id": "b79b0e72",
   "metadata": {},
   "outputs": [],
   "source": [
    "# Import libraries\n",
    "import pandas as pd\n",
    "import numpy as np\n",
    "import os\n",
    "import matplotlib.pyplot as plt\n",
    "import seaborn as sns\n",
    "import scipy"
   ]
  },
  {
   "cell_type": "code",
   "execution_count": 2,
   "id": "32fd5cc9",
   "metadata": {},
   "outputs": [],
   "source": [
    "# Import dataframe\n",
    "path=r'C:\\Users\\Errol\\Documents\\Data Analyst Work\\Achievement 4\\Instacart Basket Analysis'\n",
    "bigmerged = pd.read_pickle(os.path.join(path, '02 Data', 'Prepared Data', 'bigmerged_4.10.trimmed.pkl'))"
   ]
  },
  {
   "cell_type": "code",
   "execution_count": 3,
   "id": "143258b0",
   "metadata": {},
   "outputs": [],
   "source": [
    "# Disable row limits\n",
    "pd.options.display.max_rows = None"
   ]
  },
  {
   "cell_type": "code",
   "execution_count": 4,
   "id": "c8f071a1",
   "metadata": {},
   "outputs": [],
   "source": [
    "# Disable column limits\n",
    "pd.options.display.max_columns = None"
   ]
  },
  {
   "cell_type": "code",
   "execution_count": 5,
   "id": "9de18546",
   "metadata": {},
   "outputs": [
    {
     "data": {
      "text/html": [
       "<div>\n",
       "<style scoped>\n",
       "    .dataframe tbody tr th:only-of-type {\n",
       "        vertical-align: middle;\n",
       "    }\n",
       "\n",
       "    .dataframe tbody tr th {\n",
       "        vertical-align: top;\n",
       "    }\n",
       "\n",
       "    .dataframe thead th {\n",
       "        text-align: right;\n",
       "    }\n",
       "</style>\n",
       "<table border=\"1\" class=\"dataframe\">\n",
       "  <thead>\n",
       "    <tr style=\"text-align: right;\">\n",
       "      <th></th>\n",
       "      <th>order_id</th>\n",
       "      <th>user_id</th>\n",
       "      <th>order_number</th>\n",
       "      <th>orders_day_of_week</th>\n",
       "      <th>order_hour_of_day</th>\n",
       "      <th>days_since_last_order</th>\n",
       "      <th>product_id</th>\n",
       "      <th>add_to_cart_order</th>\n",
       "      <th>reordered</th>\n",
       "      <th>product_name</th>\n",
       "      <th>aisle_id</th>\n",
       "      <th>department_id</th>\n",
       "      <th>prices</th>\n",
       "      <th>price_range_loc</th>\n",
       "      <th>busiest_days</th>\n",
       "      <th>busiest_period_of_day</th>\n",
       "      <th>loyalty_flag</th>\n",
       "      <th>spending_flag</th>\n",
       "      <th>frequency_flag</th>\n",
       "      <th>Gender</th>\n",
       "      <th>STATE</th>\n",
       "      <th>Age</th>\n",
       "      <th>date_joined</th>\n",
       "      <th>n_dependants</th>\n",
       "      <th>fam_status</th>\n",
       "      <th>income</th>\n",
       "      <th>Region</th>\n",
       "      <th>activity_flag</th>\n",
       "    </tr>\n",
       "  </thead>\n",
       "  <tbody>\n",
       "    <tr>\n",
       "      <th>10</th>\n",
       "      <td>265153</td>\n",
       "      <td>11282</td>\n",
       "      <td>1</td>\n",
       "      <td>4</td>\n",
       "      <td>11</td>\n",
       "      <td>NaN</td>\n",
       "      <td>196</td>\n",
       "      <td>3</td>\n",
       "      <td>0</td>\n",
       "      <td>Soda</td>\n",
       "      <td>77</td>\n",
       "      <td>7</td>\n",
       "      <td>9.0</td>\n",
       "      <td>Mid-range product</td>\n",
       "      <td>Slowest days</td>\n",
       "      <td>Most orders</td>\n",
       "      <td>Regular customer</td>\n",
       "      <td>Low spender</td>\n",
       "      <td>Regular customer</td>\n",
       "      <td>Female</td>\n",
       "      <td>Georgia</td>\n",
       "      <td>42</td>\n",
       "      <td>1/4/2017</td>\n",
       "      <td>2</td>\n",
       "      <td>married</td>\n",
       "      <td>160407</td>\n",
       "      <td>South</td>\n",
       "      <td>Normal activity</td>\n",
       "    </tr>\n",
       "    <tr>\n",
       "      <th>11</th>\n",
       "      <td>1466390</td>\n",
       "      <td>11282</td>\n",
       "      <td>3</td>\n",
       "      <td>5</td>\n",
       "      <td>13</td>\n",
       "      <td>5.0</td>\n",
       "      <td>196</td>\n",
       "      <td>1</td>\n",
       "      <td>1</td>\n",
       "      <td>Soda</td>\n",
       "      <td>77</td>\n",
       "      <td>7</td>\n",
       "      <td>9.0</td>\n",
       "      <td>Mid-range product</td>\n",
       "      <td>Regularly busy</td>\n",
       "      <td>Most orders</td>\n",
       "      <td>Regular customer</td>\n",
       "      <td>Low spender</td>\n",
       "      <td>Regular customer</td>\n",
       "      <td>Female</td>\n",
       "      <td>Georgia</td>\n",
       "      <td>42</td>\n",
       "      <td>1/4/2017</td>\n",
       "      <td>2</td>\n",
       "      <td>married</td>\n",
       "      <td>160407</td>\n",
       "      <td>South</td>\n",
       "      <td>Normal activity</td>\n",
       "    </tr>\n",
       "    <tr>\n",
       "      <th>12</th>\n",
       "      <td>1305203</td>\n",
       "      <td>11282</td>\n",
       "      <td>4</td>\n",
       "      <td>4</td>\n",
       "      <td>16</td>\n",
       "      <td>13.0</td>\n",
       "      <td>196</td>\n",
       "      <td>4</td>\n",
       "      <td>1</td>\n",
       "      <td>Soda</td>\n",
       "      <td>77</td>\n",
       "      <td>7</td>\n",
       "      <td>9.0</td>\n",
       "      <td>Mid-range product</td>\n",
       "      <td>Slowest days</td>\n",
       "      <td>Most orders</td>\n",
       "      <td>Regular customer</td>\n",
       "      <td>Low spender</td>\n",
       "      <td>Regular customer</td>\n",
       "      <td>Female</td>\n",
       "      <td>Georgia</td>\n",
       "      <td>42</td>\n",
       "      <td>1/4/2017</td>\n",
       "      <td>2</td>\n",
       "      <td>married</td>\n",
       "      <td>160407</td>\n",
       "      <td>South</td>\n",
       "      <td>Normal activity</td>\n",
       "    </tr>\n",
       "    <tr>\n",
       "      <th>13</th>\n",
       "      <td>2134557</td>\n",
       "      <td>11282</td>\n",
       "      <td>5</td>\n",
       "      <td>0</td>\n",
       "      <td>15</td>\n",
       "      <td>10.0</td>\n",
       "      <td>196</td>\n",
       "      <td>2</td>\n",
       "      <td>1</td>\n",
       "      <td>Soda</td>\n",
       "      <td>77</td>\n",
       "      <td>7</td>\n",
       "      <td>9.0</td>\n",
       "      <td>Mid-range product</td>\n",
       "      <td>Busiest days</td>\n",
       "      <td>Most orders</td>\n",
       "      <td>Regular customer</td>\n",
       "      <td>Low spender</td>\n",
       "      <td>Regular customer</td>\n",
       "      <td>Female</td>\n",
       "      <td>Georgia</td>\n",
       "      <td>42</td>\n",
       "      <td>1/4/2017</td>\n",
       "      <td>2</td>\n",
       "      <td>married</td>\n",
       "      <td>160407</td>\n",
       "      <td>South</td>\n",
       "      <td>Normal activity</td>\n",
       "    </tr>\n",
       "    <tr>\n",
       "      <th>14</th>\n",
       "      <td>3371763</td>\n",
       "      <td>11282</td>\n",
       "      <td>8</td>\n",
       "      <td>4</td>\n",
       "      <td>17</td>\n",
       "      <td>24.0</td>\n",
       "      <td>196</td>\n",
       "      <td>2</td>\n",
       "      <td>1</td>\n",
       "      <td>Soda</td>\n",
       "      <td>77</td>\n",
       "      <td>7</td>\n",
       "      <td>9.0</td>\n",
       "      <td>Mid-range product</td>\n",
       "      <td>Slowest days</td>\n",
       "      <td>Average orders</td>\n",
       "      <td>Regular customer</td>\n",
       "      <td>Low spender</td>\n",
       "      <td>Regular customer</td>\n",
       "      <td>Female</td>\n",
       "      <td>Georgia</td>\n",
       "      <td>42</td>\n",
       "      <td>1/4/2017</td>\n",
       "      <td>2</td>\n",
       "      <td>married</td>\n",
       "      <td>160407</td>\n",
       "      <td>South</td>\n",
       "      <td>Normal activity</td>\n",
       "    </tr>\n",
       "  </tbody>\n",
       "</table>\n",
       "</div>"
      ],
      "text/plain": [
       "    order_id  user_id  order_number  orders_day_of_week  order_hour_of_day  \\\n",
       "10    265153    11282             1                   4                 11   \n",
       "11   1466390    11282             3                   5                 13   \n",
       "12   1305203    11282             4                   4                 16   \n",
       "13   2134557    11282             5                   0                 15   \n",
       "14   3371763    11282             8                   4                 17   \n",
       "\n",
       "    days_since_last_order  product_id  add_to_cart_order  reordered  \\\n",
       "10                    NaN         196                  3          0   \n",
       "11                    5.0         196                  1          1   \n",
       "12                   13.0         196                  4          1   \n",
       "13                   10.0         196                  2          1   \n",
       "14                   24.0         196                  2          1   \n",
       "\n",
       "   product_name  aisle_id  department_id  prices    price_range_loc  \\\n",
       "10         Soda        77              7     9.0  Mid-range product   \n",
       "11         Soda        77              7     9.0  Mid-range product   \n",
       "12         Soda        77              7     9.0  Mid-range product   \n",
       "13         Soda        77              7     9.0  Mid-range product   \n",
       "14         Soda        77              7     9.0  Mid-range product   \n",
       "\n",
       "      busiest_days busiest_period_of_day      loyalty_flag spending_flag  \\\n",
       "10    Slowest days           Most orders  Regular customer   Low spender   \n",
       "11  Regularly busy           Most orders  Regular customer   Low spender   \n",
       "12    Slowest days           Most orders  Regular customer   Low spender   \n",
       "13    Busiest days           Most orders  Regular customer   Low spender   \n",
       "14    Slowest days        Average orders  Regular customer   Low spender   \n",
       "\n",
       "      frequency_flag  Gender    STATE  Age date_joined  n_dependants  \\\n",
       "10  Regular customer  Female  Georgia   42    1/4/2017             2   \n",
       "11  Regular customer  Female  Georgia   42    1/4/2017             2   \n",
       "12  Regular customer  Female  Georgia   42    1/4/2017             2   \n",
       "13  Regular customer  Female  Georgia   42    1/4/2017             2   \n",
       "14  Regular customer  Female  Georgia   42    1/4/2017             2   \n",
       "\n",
       "   fam_status  income Region    activity_flag  \n",
       "10    married  160407  South  Normal activity  \n",
       "11    married  160407  South  Normal activity  \n",
       "12    married  160407  South  Normal activity  \n",
       "13    married  160407  South  Normal activity  \n",
       "14    married  160407  South  Normal activity  "
      ]
     },
     "execution_count": 5,
     "metadata": {},
     "output_type": "execute_result"
    }
   ],
   "source": [
    "# Quick visual check of data\n",
    "bigmerged.head()"
   ]
  },
  {
   "cell_type": "code",
   "execution_count": 6,
   "id": "e85319df",
   "metadata": {},
   "outputs": [
    {
     "data": {
      "text/plain": [
       "(30959687, 28)"
      ]
     },
     "execution_count": 6,
     "metadata": {},
     "output_type": "execute_result"
    }
   ],
   "source": [
    "# Check shape\n",
    "bigmerged.shape"
   ]
  },
  {
   "cell_type": "markdown",
   "id": "8547e644",
   "metadata": {},
   "source": [
    "# 2. Product price range visualizations"
   ]
  },
  {
   "cell_type": "code",
   "execution_count": 7,
   "id": "bdf5d4d8",
   "metadata": {},
   "outputs": [
    {
     "data": {
      "image/png": "[encoded data removed]",
      "text/plain": [
       "<Figure size 432x288 with 1 Axes>"
      ]
     },
     "metadata": {},
     "output_type": "display_data"
    }
   ],
   "source": [
    "# Make pie chart of product price ranges\n",
    "price_ranges_pie=bigmerged.groupby('price_range_loc')['product_id'].nunique().plot.pie(ylabel='', title='Product Breakdown by Price Range', autopct='%1.0f%%', colors=['red','purple','blue'])"
   ]
  },
  {
   "cell_type": "code",
   "execution_count": 8,
   "id": "98efd07e",
   "metadata": {},
   "outputs": [],
   "source": [
    "# Export chart\n",
    "price_ranges_pie.figure.savefig(os.path.join(path, '04 Analysis','Visualizations', 'price_ranges_pie.png'))"
   ]
  },
  {
   "cell_type": "code",
   "execution_count": 9,
   "id": "47e48560",
   "metadata": {},
   "outputs": [
    {
     "data": {
      "image/png": "[encoded data removed]",
      "text/plain": [
       "<Figure size 432x288 with 1 Axes>"
      ]
     },
     "metadata": {},
     "output_type": "display_data"
    }
   ],
   "source": [
    "# Create & save pie chart of total sales by price range\n",
    "price_ranges_sales_pie=bigmerged.groupby('price_range_loc')['prices'].sum().plot.pie(ylabel='', title='Total Sales ($) by Price Range', autopct='%1.0f%%', colors=['red','purple','blue'])"
   ]
  },
  {
   "cell_type": "code",
   "execution_count": 10,
   "id": "caadb0df",
   "metadata": {},
   "outputs": [],
   "source": [
    "# Export chart\n",
    "price_ranges_sales_pie.figure.savefig(os.path.join(path, '04 Analysis','Visualizations', 'price_ranges_salespie.png'))"
   ]
  },
  {
   "cell_type": "markdown",
   "id": "a252417e",
   "metadata": {},
   "source": [
    "# 3. Department sales visualization"
   ]
  },
  {
   "cell_type": "code",
   "execution_count": 11,
   "id": "ee7f4221",
   "metadata": {},
   "outputs": [],
   "source": [
    "# Add \"department name\" column\n",
    "bigmerged.loc[bigmerged['department_id'] == 1, 'department_name'] = 'frozen'\n",
    "bigmerged.loc[bigmerged['department_id'] == 2, 'department_name'] = 'other'\n",
    "bigmerged.loc[bigmerged['department_id'] == 3, 'department_name'] = 'bakery'\n",
    "bigmerged.loc[bigmerged['department_id'] == 4, 'department_name'] = 'produce'\n",
    "bigmerged.loc[bigmerged['department_id'] == 5, 'department_name'] = 'alcohol'\n",
    "bigmerged.loc[bigmerged['department_id'] == 6, 'department_name'] = 'international'\n",
    "bigmerged.loc[bigmerged['department_id'] == 7, 'department_name'] = 'beverages'\n",
    "bigmerged.loc[bigmerged['department_id'] == 8, 'department_name'] = 'pets'\n",
    "bigmerged.loc[bigmerged['department_id'] == 9, 'department_name'] = 'dry goods pasta'\n",
    "bigmerged.loc[bigmerged['department_id'] == 10, 'department_name'] = 'bulk'\n",
    "bigmerged.loc[bigmerged['department_id'] == 11, 'department_name'] = 'personal care'\n",
    "bigmerged.loc[bigmerged['department_id'] == 12, 'department_name'] = 'meat seafood'\n",
    "bigmerged.loc[bigmerged['department_id'] == 13, 'department_name'] = 'pantry'\n",
    "bigmerged.loc[bigmerged['department_id'] == 14, 'department_name'] = 'breakfast'\n",
    "bigmerged.loc[bigmerged['department_id'] == 15, 'department_name'] = 'canned goods'\n",
    "bigmerged.loc[bigmerged['department_id'] == 16, 'department_name'] = 'dairy eggs'\n",
    "bigmerged.loc[bigmerged['department_id'] == 17, 'department_name'] = 'household'\n",
    "bigmerged.loc[bigmerged['department_id'] == 18, 'department_name'] = 'babies'\n",
    "bigmerged.loc[bigmerged['department_id'] == 19, 'department_name'] = 'snacks'\n",
    "bigmerged.loc[bigmerged['department_id'] == 20, 'department_name'] = 'deli'\n",
    "bigmerged.loc[bigmerged['department_id'] == 21, 'department_name'] = 'missing'"
   ]
  },
  {
   "cell_type": "code",
   "execution_count": 12,
   "id": "c6776953",
   "metadata": {},
   "outputs": [
    {
     "data": {
      "image/png": "[encoded data removed]",
      "text/plain": [
       "<Figure size 432x288 with 1 Axes>"
      ]
     },
     "metadata": {
      "needs_background": "light"
     },
     "output_type": "display_data"
    }
   ],
   "source": [
    "# Generate visualization\n",
    "sales_department_bar=bigmerged.groupby('department_name')['prices'].sum().plot.bar(xlabel='Department', ylabel='Total Sales ($)', title='Total Sales by Department')"
   ]
  },
  {
   "cell_type": "code",
   "execution_count": 13,
   "id": "7c88399c",
   "metadata": {},
   "outputs": [],
   "source": [
    "# Export chart\n",
    "sales_department_bar.figure.savefig(os.path.join(path, '04 Analysis','Visualizations', 'sales_department_bar.png'))"
   ]
  },
  {
   "cell_type": "markdown",
   "id": "804d9554",
   "metadata": {},
   "source": [
    "# 4. Loyalty status visualizations"
   ]
  },
  {
   "cell_type": "code",
   "execution_count": 14,
   "id": "69daaf4c",
   "metadata": {},
   "outputs": [
    {
     "data": {
      "image/png": "[encoded data removed]",
      "text/plain": [
       "<Figure size 432x288 with 1 Axes>"
      ]
     },
     "metadata": {},
     "output_type": "display_data"
    }
   ],
   "source": [
    "# Make pie chart of loyalty flags\n",
    "loyalty_pie=bigmerged.groupby('loyalty_flag')['user_id'].nunique().plot.pie(ylabel='', title='Loyalty Status of Customers', autopct='%1.0f%%', colors=['red','purple','blue'])"
   ]
  },
  {
   "cell_type": "code",
   "execution_count": 15,
   "id": "fbffa839",
   "metadata": {},
   "outputs": [],
   "source": [
    "# Export chart\n",
    "loyalty_pie.figure.savefig(os.path.join(path, '04 Analysis','Visualizations', 'loyalty_pie.png'))"
   ]
  },
  {
   "cell_type": "code",
   "execution_count": 16,
   "id": "723cea7b",
   "metadata": {},
   "outputs": [
    {
     "data": {
      "image/png": "[encoded data removed]",
      "text/plain": [
       "<Figure size 432x288 with 1 Axes>"
      ]
     },
     "metadata": {},
     "output_type": "display_data"
    }
   ],
   "source": [
    "# Make pie chart of unique orders by loyalty flag\n",
    "loyalty_orders_pie=bigmerged.groupby('loyalty_flag')['order_id'].nunique().plot.pie(ylabel='', title='Unique Orders by Loyalty Status', autopct='%1.0f%%', colors=['red','purple','blue'])"
   ]
  },
  {
   "cell_type": "code",
   "execution_count": 17,
   "id": "25788d46",
   "metadata": {},
   "outputs": [],
   "source": [
    "# Export chart\n",
    "loyalty_orders_pie.figure.savefig(os.path.join(path, '04 Analysis','Visualizations', 'loyalty_orders_pie.png'))"
   ]
  }
 ],
 "metadata": {
  "kernelspec": {
   "display_name": "Python 3",
   "language": "python",
   "name": "python3"
  },
  "language_info": {
   "codemirror_mode": {
    "name": "ipython",
    "version": 3
   },
   "file_extension": ".py",
   "mimetype": "text/x-python",
   "name": "python",
   "nbconvert_exporter": "python",
   "pygments_lexer": "ipython3",
   "version": "3.8.8"
  }
 },
 "nbformat": 4,
 "nbformat_minor": 5
}
